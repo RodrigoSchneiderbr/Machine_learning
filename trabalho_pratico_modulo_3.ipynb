{
  "nbformat": 4,
  "nbformat_minor": 0,
  "metadata": {
    "colab": {
      "name": "trabalho_pratico_modulo_3.ipynb",
      "provenance": [],
      "authorship_tag": "ABX9TyPuYvtvtrvCkd6GpzcFHbUv",
      "include_colab_link": true
    },
    "kernelspec": {
      "name": "python3",
      "display_name": "Python 3"
    },
    "language_info": {
      "name": "python"
    }
  },
  "cells": [
    {
      "cell_type": "markdown",
      "metadata": {
        "id": "view-in-github",
        "colab_type": "text"
      },
      "source": [
        "<a href=\"https://colab.research.google.com/github/RodrigoSchneiderbr/Machine_learning/blob/main/trabalho_pratico_modulo_3.ipynb\" target=\"_parent\"><img src=\"https://colab.research.google.com/assets/colab-badge.svg\" alt=\"Open In Colab\"/></a>"
      ]
    },
    {
      "cell_type": "code",
      "execution_count": 52,
      "metadata": {
        "id": "vZp24VxkH-1n"
      },
      "outputs": [],
      "source": [
        "import pandas as pd\n",
        "import numpy as np"
      ]
    },
    {
      "cell_type": "code",
      "source": [
        "df_classificacao = pd.read_csv(\"bloodtransf.csv\")\n",
        "df_regressao = pd.read_csv(\"diabetes_numeric.csv\")\n",
        "df_cluster = pd.read_csv(\"wine.csv\")"
      ],
      "metadata": {
        "id": "S0WfSWoCIHy1"
      },
      "execution_count": 96,
      "outputs": []
    },
    {
      "cell_type": "markdown",
      "source": [
        "Resposta 2: 748 linhas\n"
      ],
      "metadata": {
        "id": "t3RxLmJTJjn8"
      }
    },
    {
      "cell_type": "code",
      "source": [
        "df_classificacao.shape"
      ],
      "metadata": {
        "colab": {
          "base_uri": "https://localhost:8080/"
        },
        "id": "RJ2I5nuyI4kO",
        "outputId": "e63cd0e5-9972-4a2d-b448-6f6ea1a9c5df"
      },
      "execution_count": 14,
      "outputs": [
        {
          "output_type": "execute_result",
          "data": {
            "text/plain": [
              "(748, 5)"
            ]
          },
          "metadata": {},
          "execution_count": 14
        }
      ]
    },
    {
      "cell_type": "markdown",
      "source": [
        "Respota 1 : 43 instancias e 3 atributos"
      ],
      "metadata": {
        "id": "DAhm1TgBJd31"
      }
    },
    {
      "cell_type": "code",
      "source": [
        "df_regressao.shape\n"
      ],
      "metadata": {
        "colab": {
          "base_uri": "https://localhost:8080/"
        },
        "id": "TyfNUdX0IU5M",
        "outputId": "fb92aa77-d805-4f42-da94-d23fd7c03400"
      },
      "execution_count": 17,
      "outputs": [
        {
          "output_type": "execute_result",
          "data": {
            "text/plain": [
              "(43, 3)"
            ]
          },
          "metadata": {},
          "execution_count": 17
        }
      ]
    },
    {
      "cell_type": "markdown",
      "source": [
        "Resposta 3: 178 instancias e 3 classes \n",
        "\n"
      ],
      "metadata": {
        "id": "Od3HXSbxJq3U"
      }
    },
    {
      "cell_type": "code",
      "source": [
        "df_cluster.shape"
      ],
      "metadata": {
        "colab": {
          "base_uri": "https://localhost:8080/"
        },
        "id": "TYITcXcjJtak",
        "outputId": "c8238805-b044-457e-94b0-d306f84ed253"
      },
      "execution_count": 18,
      "outputs": [
        {
          "output_type": "execute_result",
          "data": {
            "text/plain": [
              "(178, 14)"
            ]
          },
          "metadata": {},
          "execution_count": 18
        }
      ]
    },
    {
      "cell_type": "code",
      "source": [
        "df_cluster.head()"
      ],
      "metadata": {
        "colab": {
          "base_uri": "https://localhost:8080/",
          "height": 270
        },
        "id": "lm0_48jTJ9tG",
        "outputId": "53c7f6c4-4567-42da-9582-6fd307f40325"
      },
      "execution_count": 19,
      "outputs": [
        {
          "output_type": "execute_result",
          "data": {
            "text/html": [
              "\n",
              "  <div id=\"df-cd963813-f4a4-4856-9cce-7501fe8bd798\">\n",
              "    <div class=\"colab-df-container\">\n",
              "      <div>\n",
              "<style scoped>\n",
              "    .dataframe tbody tr th:only-of-type {\n",
              "        vertical-align: middle;\n",
              "    }\n",
              "\n",
              "    .dataframe tbody tr th {\n",
              "        vertical-align: top;\n",
              "    }\n",
              "\n",
              "    .dataframe thead th {\n",
              "        text-align: right;\n",
              "    }\n",
              "</style>\n",
              "<table border=\"1\" class=\"dataframe\">\n",
              "  <thead>\n",
              "    <tr style=\"text-align: right;\">\n",
              "      <th></th>\n",
              "      <th>class</th>\n",
              "      <th>Alcohol</th>\n",
              "      <th>Malic_acid</th>\n",
              "      <th>Ash</th>\n",
              "      <th>Alcalinity_of_ash</th>\n",
              "      <th>Magnesium</th>\n",
              "      <th>Total_phenols</th>\n",
              "      <th>Flavanoids</th>\n",
              "      <th>Nonflavanoid_phenols</th>\n",
              "      <th>Proanthocyanins</th>\n",
              "      <th>Color_intensity</th>\n",
              "      <th>Hue</th>\n",
              "      <th>OD280%2FOD315_of_diluted_wines</th>\n",
              "      <th>Proline</th>\n",
              "    </tr>\n",
              "  </thead>\n",
              "  <tbody>\n",
              "    <tr>\n",
              "      <th>0</th>\n",
              "      <td>1</td>\n",
              "      <td>14.23</td>\n",
              "      <td>1.71</td>\n",
              "      <td>2.43</td>\n",
              "      <td>15.6</td>\n",
              "      <td>127</td>\n",
              "      <td>2.80</td>\n",
              "      <td>3.06</td>\n",
              "      <td>0.28</td>\n",
              "      <td>2.29</td>\n",
              "      <td>5.64</td>\n",
              "      <td>1.04</td>\n",
              "      <td>3.92</td>\n",
              "      <td>1065</td>\n",
              "    </tr>\n",
              "    <tr>\n",
              "      <th>1</th>\n",
              "      <td>1</td>\n",
              "      <td>13.20</td>\n",
              "      <td>1.78</td>\n",
              "      <td>2.14</td>\n",
              "      <td>11.2</td>\n",
              "      <td>100</td>\n",
              "      <td>2.65</td>\n",
              "      <td>2.76</td>\n",
              "      <td>0.26</td>\n",
              "      <td>1.28</td>\n",
              "      <td>4.38</td>\n",
              "      <td>1.05</td>\n",
              "      <td>3.40</td>\n",
              "      <td>1050</td>\n",
              "    </tr>\n",
              "    <tr>\n",
              "      <th>2</th>\n",
              "      <td>1</td>\n",
              "      <td>13.16</td>\n",
              "      <td>2.36</td>\n",
              "      <td>2.67</td>\n",
              "      <td>18.6</td>\n",
              "      <td>101</td>\n",
              "      <td>2.80</td>\n",
              "      <td>3.24</td>\n",
              "      <td>0.30</td>\n",
              "      <td>2.81</td>\n",
              "      <td>5.68</td>\n",
              "      <td>1.03</td>\n",
              "      <td>3.17</td>\n",
              "      <td>1185</td>\n",
              "    </tr>\n",
              "    <tr>\n",
              "      <th>3</th>\n",
              "      <td>1</td>\n",
              "      <td>14.37</td>\n",
              "      <td>1.95</td>\n",
              "      <td>2.50</td>\n",
              "      <td>16.8</td>\n",
              "      <td>113</td>\n",
              "      <td>3.85</td>\n",
              "      <td>3.49</td>\n",
              "      <td>0.24</td>\n",
              "      <td>2.18</td>\n",
              "      <td>7.80</td>\n",
              "      <td>0.86</td>\n",
              "      <td>3.45</td>\n",
              "      <td>1480</td>\n",
              "    </tr>\n",
              "    <tr>\n",
              "      <th>4</th>\n",
              "      <td>1</td>\n",
              "      <td>13.24</td>\n",
              "      <td>2.59</td>\n",
              "      <td>2.87</td>\n",
              "      <td>21.0</td>\n",
              "      <td>118</td>\n",
              "      <td>2.80</td>\n",
              "      <td>2.69</td>\n",
              "      <td>0.39</td>\n",
              "      <td>1.82</td>\n",
              "      <td>4.32</td>\n",
              "      <td>1.04</td>\n",
              "      <td>2.93</td>\n",
              "      <td>735</td>\n",
              "    </tr>\n",
              "  </tbody>\n",
              "</table>\n",
              "</div>\n",
              "      <button class=\"colab-df-convert\" onclick=\"convertToInteractive('df-cd963813-f4a4-4856-9cce-7501fe8bd798')\"\n",
              "              title=\"Convert this dataframe to an interactive table.\"\n",
              "              style=\"display:none;\">\n",
              "        \n",
              "  <svg xmlns=\"http://www.w3.org/2000/svg\" height=\"24px\"viewBox=\"0 0 24 24\"\n",
              "       width=\"24px\">\n",
              "    <path d=\"M0 0h24v24H0V0z\" fill=\"none\"/>\n",
              "    <path d=\"M18.56 5.44l.94 2.06.94-2.06 2.06-.94-2.06-.94-.94-2.06-.94 2.06-2.06.94zm-11 1L8.5 8.5l.94-2.06 2.06-.94-2.06-.94L8.5 2.5l-.94 2.06-2.06.94zm10 10l.94 2.06.94-2.06 2.06-.94-2.06-.94-.94-2.06-.94 2.06-2.06.94z\"/><path d=\"M17.41 7.96l-1.37-1.37c-.4-.4-.92-.59-1.43-.59-.52 0-1.04.2-1.43.59L10.3 9.45l-7.72 7.72c-.78.78-.78 2.05 0 2.83L4 21.41c.39.39.9.59 1.41.59.51 0 1.02-.2 1.41-.59l7.78-7.78 2.81-2.81c.8-.78.8-2.07 0-2.86zM5.41 20L4 18.59l7.72-7.72 1.47 1.35L5.41 20z\"/>\n",
              "  </svg>\n",
              "      </button>\n",
              "      \n",
              "  <style>\n",
              "    .colab-df-container {\n",
              "      display:flex;\n",
              "      flex-wrap:wrap;\n",
              "      gap: 12px;\n",
              "    }\n",
              "\n",
              "    .colab-df-convert {\n",
              "      background-color: #E8F0FE;\n",
              "      border: none;\n",
              "      border-radius: 50%;\n",
              "      cursor: pointer;\n",
              "      display: none;\n",
              "      fill: #1967D2;\n",
              "      height: 32px;\n",
              "      padding: 0 0 0 0;\n",
              "      width: 32px;\n",
              "    }\n",
              "\n",
              "    .colab-df-convert:hover {\n",
              "      background-color: #E2EBFA;\n",
              "      box-shadow: 0px 1px 2px rgba(60, 64, 67, 0.3), 0px 1px 3px 1px rgba(60, 64, 67, 0.15);\n",
              "      fill: #174EA6;\n",
              "    }\n",
              "\n",
              "    [theme=dark] .colab-df-convert {\n",
              "      background-color: #3B4455;\n",
              "      fill: #D2E3FC;\n",
              "    }\n",
              "\n",
              "    [theme=dark] .colab-df-convert:hover {\n",
              "      background-color: #434B5C;\n",
              "      box-shadow: 0px 1px 3px 1px rgba(0, 0, 0, 0.15);\n",
              "      filter: drop-shadow(0px 1px 2px rgba(0, 0, 0, 0.3));\n",
              "      fill: #FFFFFF;\n",
              "    }\n",
              "  </style>\n",
              "\n",
              "      <script>\n",
              "        const buttonEl =\n",
              "          document.querySelector('#df-cd963813-f4a4-4856-9cce-7501fe8bd798 button.colab-df-convert');\n",
              "        buttonEl.style.display =\n",
              "          google.colab.kernel.accessAllowed ? 'block' : 'none';\n",
              "\n",
              "        async function convertToInteractive(key) {\n",
              "          const element = document.querySelector('#df-cd963813-f4a4-4856-9cce-7501fe8bd798');\n",
              "          const dataTable =\n",
              "            await google.colab.kernel.invokeFunction('convertToInteractive',\n",
              "                                                     [key], {});\n",
              "          if (!dataTable) return;\n",
              "\n",
              "          const docLinkHtml = 'Like what you see? Visit the ' +\n",
              "            '<a target=\"_blank\" href=https://colab.research.google.com/notebooks/data_table.ipynb>data table notebook</a>'\n",
              "            + ' to learn more about interactive tables.';\n",
              "          element.innerHTML = '';\n",
              "          dataTable['output_type'] = 'display_data';\n",
              "          await google.colab.output.renderOutput(dataTable, element);\n",
              "          const docLink = document.createElement('div');\n",
              "          docLink.innerHTML = docLinkHtml;\n",
              "          element.appendChild(docLink);\n",
              "        }\n",
              "      </script>\n",
              "    </div>\n",
              "  </div>\n",
              "  "
            ],
            "text/plain": [
              "   class  Alcohol  Malic_acid  ...   Hue  OD280%2FOD315_of_diluted_wines  Proline\n",
              "0      1    14.23        1.71  ...  1.04                            3.92     1065\n",
              "1      1    13.20        1.78  ...  1.05                            3.40     1050\n",
              "2      1    13.16        2.36  ...  1.03                            3.17     1185\n",
              "3      1    14.37        1.95  ...  0.86                            3.45     1480\n",
              "4      1    13.24        2.59  ...  1.04                            2.93      735\n",
              "\n",
              "[5 rows x 14 columns]"
            ]
          },
          "metadata": {},
          "execution_count": 19
        }
      ]
    },
    {
      "cell_type": "code",
      "source": [
        "df_cluster.columns"
      ],
      "metadata": {
        "colab": {
          "base_uri": "https://localhost:8080/"
        },
        "id": "R_y1UpoUKGLU",
        "outputId": "1113e999-c048-4f64-e814-cca6f5b7b72d"
      },
      "execution_count": 20,
      "outputs": [
        {
          "output_type": "execute_result",
          "data": {
            "text/plain": [
              "Index(['class', 'Alcohol', 'Malic_acid', 'Ash', 'Alcalinity_of_ash',\n",
              "       'Magnesium', 'Total_phenols', 'Flavanoids', 'Nonflavanoid_phenols',\n",
              "       'Proanthocyanins', 'Color_intensity', 'Hue',\n",
              "       'OD280%2FOD315_of_diluted_wines', 'Proline'],\n",
              "      dtype='object')"
            ]
          },
          "metadata": {},
          "execution_count": 20
        }
      ]
    },
    {
      "cell_type": "code",
      "source": [
        "df_cluster['class'].unique()"
      ],
      "metadata": {
        "colab": {
          "base_uri": "https://localhost:8080/"
        },
        "id": "RfMp_tHeKoys",
        "outputId": "8618ece1-8222-4dce-ebda-76347b2c43e3"
      },
      "execution_count": 22,
      "outputs": [
        {
          "output_type": "execute_result",
          "data": {
            "text/plain": [
              "array([1, 2, 3])"
            ]
          },
          "metadata": {},
          "execution_count": 22
        }
      ]
    },
    {
      "cell_type": "markdown",
      "source": [
        "Resposta 4: Nenhuma tem dados falantes"
      ],
      "metadata": {
        "id": "U2MDJuGHLxg9"
      }
    },
    {
      "cell_type": "code",
      "source": [
        "df_cluster.isnull().sum()"
      ],
      "metadata": {
        "colab": {
          "base_uri": "https://localhost:8080/"
        },
        "id": "ayi6mdafLzWd",
        "outputId": "0d7c23f3-f016-42ff-f1e6-f8efc8be72e6"
      },
      "execution_count": 23,
      "outputs": [
        {
          "output_type": "execute_result",
          "data": {
            "text/plain": [
              "class                             0\n",
              "Alcohol                           0\n",
              "Malic_acid                        0\n",
              "Ash                               0\n",
              "Alcalinity_of_ash                 0\n",
              "Magnesium                         0\n",
              "Total_phenols                     0\n",
              "Flavanoids                        0\n",
              "Nonflavanoid_phenols              0\n",
              "Proanthocyanins                   0\n",
              "Color_intensity                   0\n",
              "Hue                               0\n",
              "OD280%2FOD315_of_diluted_wines    0\n",
              "Proline                           0\n",
              "dtype: int64"
            ]
          },
          "metadata": {},
          "execution_count": 23
        }
      ]
    },
    {
      "cell_type": "code",
      "source": [
        "df_classificacao.isnull().sum()"
      ],
      "metadata": {
        "colab": {
          "base_uri": "https://localhost:8080/"
        },
        "id": "8S_OwUEDL9kl",
        "outputId": "25c9b551-13c3-43ab-ce61-01e42212d9d1"
      },
      "execution_count": 24,
      "outputs": [
        {
          "output_type": "execute_result",
          "data": {
            "text/plain": [
              "V1       0\n",
              "V2       0\n",
              "V3       0\n",
              "V4       0\n",
              "Class    0\n",
              "dtype: int64"
            ]
          },
          "metadata": {},
          "execution_count": 24
        }
      ]
    },
    {
      "cell_type": "code",
      "source": [
        "df_regressao.isnull().sum()"
      ],
      "metadata": {
        "colab": {
          "base_uri": "https://localhost:8080/"
        },
        "id": "ieXQ_iyPMIzO",
        "outputId": "85ebade2-d8ae-4ca3-df47-8f959921596e"
      },
      "execution_count": 25,
      "outputs": [
        {
          "output_type": "execute_result",
          "data": {
            "text/plain": [
              "age          0\n",
              "deficit      0\n",
              "c_peptide    0\n",
              "dtype: int64"
            ]
          },
          "metadata": {},
          "execution_count": 25
        }
      ]
    },
    {
      "cell_type": "markdown",
      "source": [
        "Resposta 5: na verdade deu 0,017 mas arredondando da 0,02"
      ],
      "metadata": {
        "id": "DL5GjGbAMTed"
      }
    },
    {
      "cell_type": "code",
      "execution_count": 26,
      "metadata": {
        "id": "UxhR3kg_T-HQ"
      },
      "outputs": [],
      "source": [
        "from sklearn.model_selection import train_test_split\n",
        "from sklearn import metrics \n",
        "from sklearn.linear_model import LinearRegression \n",
        "from sklearn.svm import SVC\n",
        "from sklearn.ensemble import RandomForestRegressor\n",
        "from sklearn.cluster import KMeans"
      ]
    },
    {
      "cell_type": "markdown",
      "source": [
        "Regressao linear"
      ],
      "metadata": {
        "id": "NANfK2mWQP-f"
      }
    },
    {
      "cell_type": "code",
      "source": [
        "dado_saida = np.array(df_regressao['c_peptide'])\n",
        "dado_entrada = np.array(df_regressao.drop('c_peptide', axis = 1))"
      ],
      "metadata": {
        "id": "sEm4qWA3Mml2"
      },
      "execution_count": 57,
      "outputs": []
    },
    {
      "cell_type": "code",
      "source": [
        "train_dado_entrada_linear, test_dado_entrada_linear, train_dado_saida_linear, test_dado_saida_linear = train_test_split(dado_entrada, dado_saida, test_size = 0.37, random_state = 5762)"
      ],
      "metadata": {
        "id": "ZhBk10baQsfK"
      },
      "execution_count": 29,
      "outputs": []
    },
    {
      "cell_type": "code",
      "source": [
        "regressao = LinearRegression().fit(train_dado_entrada_linear, train_dado_saida_linear)\n",
        "previsao = regressao.predict(test_dado_entrada_linear)"
      ],
      "metadata": {
        "id": "5QuPAG5vRpyw"
      },
      "execution_count": 30,
      "outputs": []
    },
    {
      "cell_type": "code",
      "source": [
        "print(\"R2 =\", round(metrics.r2_score(test_dado_saida_linear, previsao),3))"
      ],
      "metadata": {
        "colab": {
          "base_uri": "https://localhost:8080/"
        },
        "id": "npFXcv_hS6ep",
        "outputId": "82b19751-6946-46c5-e910-16c0c44904e1"
      },
      "execution_count": 38,
      "outputs": [
        {
          "output_type": "stream",
          "name": "stdout",
          "text": [
            "R2 = 0.017\n"
          ]
        }
      ]
    },
    {
      "cell_type": "markdown",
      "source": [
        "Resposta 6: 0.53"
      ],
      "metadata": {
        "id": "WgCVasBKTpPA"
      }
    },
    {
      "cell_type": "code",
      "source": [
        "print(\"MAE =\", round(metrics.mean_absolute_error(test_dado_saida_linear, previsao),3))"
      ],
      "metadata": {
        "colab": {
          "base_uri": "https://localhost:8080/"
        },
        "id": "ghT5_h4uTzlA",
        "outputId": "c7a4e36a-ff62-4006-9b34-e4ea96194e73"
      },
      "execution_count": 37,
      "outputs": [
        {
          "output_type": "stream",
          "name": "stdout",
          "text": [
            "MAE = 0.532\n"
          ]
        }
      ]
    },
    {
      "cell_type": "markdown",
      "source": [
        "Resposta 7: 0.44"
      ],
      "metadata": {
        "id": "u2w0zg1hUKQg"
      }
    },
    {
      "cell_type": "code",
      "source": [
        "print(\"MSE =\", round(metrics.mean_squared_error(test_dado_saida_linear, previsao),3))"
      ],
      "metadata": {
        "colab": {
          "base_uri": "https://localhost:8080/"
        },
        "id": "L1KI3J_SUQTw",
        "outputId": "7100cc33-fb4f-4a30-9cd2-f633f3440a42"
      },
      "execution_count": 36,
      "outputs": [
        {
          "output_type": "stream",
          "name": "stdout",
          "text": [
            "MSE = 0.441\n"
          ]
        }
      ]
    },
    {
      "cell_type": "markdown",
      "source": [
        "SVM"
      ],
      "metadata": {
        "id": "4-RotT-9UoxI"
      }
    },
    {
      "cell_type": "code",
      "source": [
        "df_classificacao.head()"
      ],
      "metadata": {
        "colab": {
          "base_uri": "https://localhost:8080/",
          "height": 206
        },
        "id": "S1MzryycUqXy",
        "outputId": "c2285e76-e78b-479c-d84e-aa70129be5f1"
      },
      "execution_count": 62,
      "outputs": [
        {
          "output_type": "execute_result",
          "data": {
            "text/html": [
              "\n",
              "  <div id=\"df-312aa696-7dbd-4de3-a2f2-aa074ab0bc44\">\n",
              "    <div class=\"colab-df-container\">\n",
              "      <div>\n",
              "<style scoped>\n",
              "    .dataframe tbody tr th:only-of-type {\n",
              "        vertical-align: middle;\n",
              "    }\n",
              "\n",
              "    .dataframe tbody tr th {\n",
              "        vertical-align: top;\n",
              "    }\n",
              "\n",
              "    .dataframe thead th {\n",
              "        text-align: right;\n",
              "    }\n",
              "</style>\n",
              "<table border=\"1\" class=\"dataframe\">\n",
              "  <thead>\n",
              "    <tr style=\"text-align: right;\">\n",
              "      <th></th>\n",
              "      <th>V1</th>\n",
              "      <th>V2</th>\n",
              "      <th>V3</th>\n",
              "      <th>V4</th>\n",
              "      <th>Class</th>\n",
              "    </tr>\n",
              "  </thead>\n",
              "  <tbody>\n",
              "    <tr>\n",
              "      <th>0</th>\n",
              "      <td>2</td>\n",
              "      <td>50</td>\n",
              "      <td>12500</td>\n",
              "      <td>98</td>\n",
              "      <td>2</td>\n",
              "    </tr>\n",
              "    <tr>\n",
              "      <th>1</th>\n",
              "      <td>0</td>\n",
              "      <td>13</td>\n",
              "      <td>3250</td>\n",
              "      <td>28</td>\n",
              "      <td>2</td>\n",
              "    </tr>\n",
              "    <tr>\n",
              "      <th>2</th>\n",
              "      <td>1</td>\n",
              "      <td>16</td>\n",
              "      <td>4000</td>\n",
              "      <td>35</td>\n",
              "      <td>2</td>\n",
              "    </tr>\n",
              "    <tr>\n",
              "      <th>3</th>\n",
              "      <td>2</td>\n",
              "      <td>20</td>\n",
              "      <td>5000</td>\n",
              "      <td>45</td>\n",
              "      <td>2</td>\n",
              "    </tr>\n",
              "    <tr>\n",
              "      <th>4</th>\n",
              "      <td>1</td>\n",
              "      <td>24</td>\n",
              "      <td>6000</td>\n",
              "      <td>77</td>\n",
              "      <td>1</td>\n",
              "    </tr>\n",
              "  </tbody>\n",
              "</table>\n",
              "</div>\n",
              "      <button class=\"colab-df-convert\" onclick=\"convertToInteractive('df-312aa696-7dbd-4de3-a2f2-aa074ab0bc44')\"\n",
              "              title=\"Convert this dataframe to an interactive table.\"\n",
              "              style=\"display:none;\">\n",
              "        \n",
              "  <svg xmlns=\"http://www.w3.org/2000/svg\" height=\"24px\"viewBox=\"0 0 24 24\"\n",
              "       width=\"24px\">\n",
              "    <path d=\"M0 0h24v24H0V0z\" fill=\"none\"/>\n",
              "    <path d=\"M18.56 5.44l.94 2.06.94-2.06 2.06-.94-2.06-.94-.94-2.06-.94 2.06-2.06.94zm-11 1L8.5 8.5l.94-2.06 2.06-.94-2.06-.94L8.5 2.5l-.94 2.06-2.06.94zm10 10l.94 2.06.94-2.06 2.06-.94-2.06-.94-.94-2.06-.94 2.06-2.06.94z\"/><path d=\"M17.41 7.96l-1.37-1.37c-.4-.4-.92-.59-1.43-.59-.52 0-1.04.2-1.43.59L10.3 9.45l-7.72 7.72c-.78.78-.78 2.05 0 2.83L4 21.41c.39.39.9.59 1.41.59.51 0 1.02-.2 1.41-.59l7.78-7.78 2.81-2.81c.8-.78.8-2.07 0-2.86zM5.41 20L4 18.59l7.72-7.72 1.47 1.35L5.41 20z\"/>\n",
              "  </svg>\n",
              "      </button>\n",
              "      \n",
              "  <style>\n",
              "    .colab-df-container {\n",
              "      display:flex;\n",
              "      flex-wrap:wrap;\n",
              "      gap: 12px;\n",
              "    }\n",
              "\n",
              "    .colab-df-convert {\n",
              "      background-color: #E8F0FE;\n",
              "      border: none;\n",
              "      border-radius: 50%;\n",
              "      cursor: pointer;\n",
              "      display: none;\n",
              "      fill: #1967D2;\n",
              "      height: 32px;\n",
              "      padding: 0 0 0 0;\n",
              "      width: 32px;\n",
              "    }\n",
              "\n",
              "    .colab-df-convert:hover {\n",
              "      background-color: #E2EBFA;\n",
              "      box-shadow: 0px 1px 2px rgba(60, 64, 67, 0.3), 0px 1px 3px 1px rgba(60, 64, 67, 0.15);\n",
              "      fill: #174EA6;\n",
              "    }\n",
              "\n",
              "    [theme=dark] .colab-df-convert {\n",
              "      background-color: #3B4455;\n",
              "      fill: #D2E3FC;\n",
              "    }\n",
              "\n",
              "    [theme=dark] .colab-df-convert:hover {\n",
              "      background-color: #434B5C;\n",
              "      box-shadow: 0px 1px 3px 1px rgba(0, 0, 0, 0.15);\n",
              "      filter: drop-shadow(0px 1px 2px rgba(0, 0, 0, 0.3));\n",
              "      fill: #FFFFFF;\n",
              "    }\n",
              "  </style>\n",
              "\n",
              "      <script>\n",
              "        const buttonEl =\n",
              "          document.querySelector('#df-312aa696-7dbd-4de3-a2f2-aa074ab0bc44 button.colab-df-convert');\n",
              "        buttonEl.style.display =\n",
              "          google.colab.kernel.accessAllowed ? 'block' : 'none';\n",
              "\n",
              "        async function convertToInteractive(key) {\n",
              "          const element = document.querySelector('#df-312aa696-7dbd-4de3-a2f2-aa074ab0bc44');\n",
              "          const dataTable =\n",
              "            await google.colab.kernel.invokeFunction('convertToInteractive',\n",
              "                                                     [key], {});\n",
              "          if (!dataTable) return;\n",
              "\n",
              "          const docLinkHtml = 'Like what you see? Visit the ' +\n",
              "            '<a target=\"_blank\" href=https://colab.research.google.com/notebooks/data_table.ipynb>data table notebook</a>'\n",
              "            + ' to learn more about interactive tables.';\n",
              "          element.innerHTML = '';\n",
              "          dataTable['output_type'] = 'display_data';\n",
              "          await google.colab.output.renderOutput(dataTable, element);\n",
              "          const docLink = document.createElement('div');\n",
              "          docLink.innerHTML = docLinkHtml;\n",
              "          element.appendChild(docLink);\n",
              "        }\n",
              "      </script>\n",
              "    </div>\n",
              "  </div>\n",
              "  "
            ],
            "text/plain": [
              "   V1  V2     V3  V4  Class\n",
              "0   2  50  12500  98      2\n",
              "1   0  13   3250  28      2\n",
              "2   1  16   4000  35      2\n",
              "3   2  20   5000  45      2\n",
              "4   1  24   6000  77      1"
            ]
          },
          "metadata": {},
          "execution_count": 62
        }
      ]
    },
    {
      "cell_type": "code",
      "source": [
        "df_classificacao[\"Class\"] = df_classificacao[\"Class\"].map({1: 0,2: 1})"
      ],
      "metadata": {
        "id": "VOWwbsoKZsWi"
      },
      "execution_count": 63,
      "outputs": []
    },
    {
      "cell_type": "code",
      "source": [
        "saida_svm = np.array(df_classificacao['Class'])\n",
        "entrada_svm = np.array(df_classificacao.drop('Class', axis = 1))\n",
        "train_entrada_svm, test_entrada_svm, train_saida_svm, test_saida_svm = train_test_split(entrada_svm, saida_svm, test_size = 0.37, random_state = 5762)"
      ],
      "metadata": {
        "id": "lVg-nrtAace2"
      },
      "execution_count": 66,
      "outputs": []
    },
    {
      "cell_type": "code",
      "source": [
        "classifier = SVC(kernel = \"rbf\").fit(train_entrada_svm, train_saida_svm)"
      ],
      "metadata": {
        "id": "CRISb8IcdgX2"
      },
      "execution_count": 67,
      "outputs": []
    },
    {
      "cell_type": "code",
      "source": [
        "previsao_svm = classifier.predict(test_entrada_svm)"
      ],
      "metadata": {
        "id": "zeB_b-XCdtdL"
      },
      "execution_count": 68,
      "outputs": []
    },
    {
      "cell_type": "code",
      "source": [
        "print(\"Acuracia = \", round(metrics.accuracy_score(test_saida_svm, previsao_svm),2))"
      ],
      "metadata": {
        "colab": {
          "base_uri": "https://localhost:8080/"
        },
        "id": "JuKiTtaLd-Kl",
        "outputId": "a93c4387-f704-43e7-adce-ec176bf12d85"
      },
      "execution_count": 70,
      "outputs": [
        {
          "output_type": "stream",
          "name": "stdout",
          "text": [
            "Acuracia =  0.79\n"
          ]
        }
      ]
    },
    {
      "cell_type": "markdown",
      "source": [
        "Resposta 8 = 0.79"
      ],
      "metadata": {
        "id": "TnIgRFJseSir"
      }
    },
    {
      "cell_type": "code",
      "source": [
        "from sklearn.metrics import classification_report, plot_confusion_matrix, plot_roc_curve"
      ],
      "metadata": {
        "id": "kFMrB9vxeXx8"
      },
      "execution_count": 71,
      "outputs": []
    },
    {
      "cell_type": "code",
      "source": [
        "print(classification_report(test_saida_svm,previsao_svm))"
      ],
      "metadata": {
        "colab": {
          "base_uri": "https://localhost:8080/"
        },
        "id": "u7GeQ2SXeyas",
        "outputId": "dc1af341-312a-4fa2-c5a1-ec9e99216b20"
      },
      "execution_count": 72,
      "outputs": [
        {
          "output_type": "stream",
          "name": "stdout",
          "text": [
            "              precision    recall  f1-score   support\n",
            "\n",
            "           0       0.80      0.98      0.88       218\n",
            "           1       0.50      0.07      0.12        59\n",
            "\n",
            "    accuracy                           0.79       277\n",
            "   macro avg       0.65      0.52      0.50       277\n",
            "weighted avg       0.73      0.79      0.72       277\n",
            "\n"
          ]
        }
      ]
    },
    {
      "cell_type": "markdown",
      "source": [
        "Resposta 9 = 0.5 e 0.07"
      ],
      "metadata": {
        "id": "UO1OQYorfQaE"
      }
    },
    {
      "cell_type": "markdown",
      "source": [
        "Resposta 10 = 0.12"
      ],
      "metadata": {
        "id": "s2669WVTfZoW"
      }
    },
    {
      "cell_type": "code",
      "source": [
        "print(\"Precision = \", round(metrics.precision_score(test_saida_svm, previsao_svm),2))\n",
        "print(\"Recall = \", round(metrics.recall_score(test_saida_svm, previsao_svm),2))\n",
        "print(\"f1 = \", round(metrics.f1_score(test_saida_svm, previsao_svm),2))\n",
        "print(\"auroc = \", round(metrics.roc_auc_score(test_saida_svm, previsao_svm),2))\n"
      ],
      "metadata": {
        "colab": {
          "base_uri": "https://localhost:8080/"
        },
        "id": "II5xGn58fljb",
        "outputId": "a9d6d29a-526b-4a8f-81a9-25c4bcf6e498"
      },
      "execution_count": 76,
      "outputs": [
        {
          "output_type": "stream",
          "name": "stdout",
          "text": [
            "Precision =  0.5\n",
            "Recall =  0.07\n",
            "f1 =  0.12\n",
            "auroc =  0.52\n"
          ]
        }
      ]
    },
    {
      "cell_type": "markdown",
      "source": [
        "Resposta 11: 0.52"
      ],
      "metadata": {
        "id": "vEs6ykCplyom"
      }
    },
    {
      "cell_type": "markdown",
      "source": [
        "KMEANS"
      ],
      "metadata": {
        "id": "BnJnhlDDgYgO"
      }
    },
    {
      "cell_type": "code",
      "source": [
        "df_cluster['class'] = df_cluster['class'].map({1:0,2:1,3:2})\n",
        "saida_cluster = np.array(df_cluster['class'])\n",
        "entrada_cluster = np.array(df_cluster.drop('class', axis = 1))\n",
        "train_entrada_cluster, test_entrada_cluster, train_saida_cluster, test_saida_cluster = train_test_split(entrada_cluster, saida_cluster, test_size = 0.37, random_state = 5762)"
      ],
      "metadata": {
        "id": "ACvYSzmIgaW8"
      },
      "execution_count": 97,
      "outputs": []
    },
    {
      "cell_type": "code",
      "source": [
        "cluster = KMeans(n_clusters = 3, random_state = 5762).fit(train_entrada_cluster, train_saida_cluster)"
      ],
      "metadata": {
        "id": "GbTe0JqQk0nu"
      },
      "execution_count": 98,
      "outputs": []
    },
    {
      "cell_type": "code",
      "source": [
        "previsao_cluster = cluster.predict(test_entrada_cluster)"
      ],
      "metadata": {
        "id": "u4_CPytylMFi"
      },
      "execution_count": 99,
      "outputs": []
    },
    {
      "cell_type": "code",
      "source": [
        "print(\"Silhueta = \", round(metrics.silhouette_score(test_entrada_cluster, previsao_cluster),2))"
      ],
      "metadata": {
        "colab": {
          "base_uri": "https://localhost:8080/"
        },
        "id": "T0NKg_A8lcN2",
        "outputId": "66b02979-aae3-4d3a-97d1-18c1dd9db2b5"
      },
      "execution_count": 100,
      "outputs": [
        {
          "output_type": "stream",
          "name": "stdout",
          "text": [
            "Silhueta =  0.6\n"
          ]
        }
      ]
    },
    {
      "cell_type": "markdown",
      "source": [
        "Resposta 13 = 0.6"
      ],
      "metadata": {
        "id": "Mw6htohiltHu"
      }
    },
    {
      "cell_type": "code",
      "source": [
        "print(\"davies bouldin score = \", round(metrics.davies_bouldin_score(test_entrada_cluster, previsao_cluster),2))"
      ],
      "metadata": {
        "colab": {
          "base_uri": "https://localhost:8080/"
        },
        "id": "2VGGN4pIlvzW",
        "outputId": "d9205597-62af-44ad-874b-b1300c6a7045"
      },
      "execution_count": 101,
      "outputs": [
        {
          "output_type": "stream",
          "name": "stdout",
          "text": [
            "davies bouldin score =  0.5\n"
          ]
        }
      ]
    },
    {
      "cell_type": "markdown",
      "source": [
        "Resposta 14 = 0.5"
      ],
      "metadata": {
        "id": "gcu-wRJWmETO"
      }
    },
    {
      "cell_type": "code",
      "source": [
        "print(\"mutual information = \", round(metrics.mutual_info_score(test_saida_cluster, previsao_cluster),2))"
      ],
      "metadata": {
        "colab": {
          "base_uri": "https://localhost:8080/"
        },
        "id": "dIGyR9S1mGvV",
        "outputId": "644ec7d3-36b7-45f4-e209-20424aa8c332"
      },
      "execution_count": 102,
      "outputs": [
        {
          "output_type": "stream",
          "name": "stdout",
          "text": [
            "mutual information =  0.49\n"
          ]
        }
      ]
    },
    {
      "cell_type": "markdown",
      "source": [
        "Resposta 15 = 0.49\n"
      ],
      "metadata": {
        "id": "Zkbm36wzokNI"
      }
    },
    {
      "cell_type": "code",
      "source": [
        "from sklearn.ensemble import RandomForestRegressor\n",
        "from sklearn.cluster import KMeans"
      ],
      "metadata": {
        "id": "YhxP8te1pYNg"
      },
      "execution_count": 105,
      "outputs": []
    },
    {
      "cell_type": "code",
      "source": [
        "cluster = KMeans(n_clusters = 3, random_state = 5762).fit(train_entrada_cluster, train_saida_cluster)\n",
        "previsao_cluster = cluster.predict(test_entrada_cluster)\n",
        "print(\"Silhueta = \", round(metrics.silhouette_score(test_entrada_cluster, previsao_cluster),2))\n",
        "print(\"davies bouldin score = \", round(metrics.davies_bouldin_score(test_entrada_cluster, previsao_cluster),2))\n",
        "print(\"mutual information = \", round(metrics.mutual_info_score(test_saida_cluster, previsao_cluster),2))\n",
        "print(\"contigencia = \", metrics.cluster.contingency_matrix(test_saida_cluster, previsao_cluster),2)"
      ],
      "metadata": {
        "colab": {
          "base_uri": "https://localhost:8080/"
        },
        "id": "PZZbGXG8oo7X",
        "outputId": "4c8aa774-7b3c-45cf-95c5-7b6892568857"
      },
      "execution_count": 108,
      "outputs": [
        {
          "output_type": "stream",
          "name": "stdout",
          "text": [
            "Silhueta =  0.6\n",
            "davies bouldin score =  0.5\n",
            "mutual information =  0.49\n",
            "contigencia =  [[ 0 12  5]\n",
            " [23  0  7]\n",
            " [ 4  0 15]] 2\n"
          ]
        }
      ]
    },
    {
      "cell_type": "code",
      "source": [
        "cluster = KMeans(n_clusters = 2, random_state = 5762).fit(train_entrada_cluster, train_saida_cluster)\n",
        "previsao_cluster = cluster.predict(test_entrada_cluster)\n",
        "print(\"Silhueta = \", round(metrics.silhouette_score(test_entrada_cluster, previsao_cluster),2))\n",
        "print(\"davies bouldin score = \", round(metrics.davies_bouldin_score(test_entrada_cluster, previsao_cluster),2))\n",
        "print(\"mutual information = \", round(metrics.mutual_info_score(test_saida_cluster, previsao_cluster),2))\n",
        "print(\"contigencia = \", metrics.cluster.contingency_matrix(test_saida_cluster, previsao_cluster),2)"
      ],
      "metadata": {
        "colab": {
          "base_uri": "https://localhost:8080/"
        },
        "id": "K2HYmsvWqfRR",
        "outputId": "b419178e-8350-45fd-b3c7-d03c333fa3c6"
      },
      "execution_count": 109,
      "outputs": [
        {
          "output_type": "stream",
          "name": "stdout",
          "text": [
            "Silhueta =  0.6\n",
            "davies bouldin score =  0.54\n",
            "mutual information =  0.24\n",
            "contigencia =  [[13  4]\n",
            " [ 2 28]\n",
            " [ 1 18]] 2\n"
          ]
        }
      ]
    },
    {
      "cell_type": "code",
      "source": [
        "cluster = KMeans(n_clusters = 4, random_state = 5762).fit(train_entrada_cluster, train_saida_cluster)\n",
        "previsao_cluster = cluster.predict(test_entrada_cluster)\n",
        "print(\"Silhueta = \", round(metrics.silhouette_score(test_entrada_cluster, previsao_cluster),2))\n",
        "print(\"davies bouldin score = \", round(metrics.davies_bouldin_score(test_entrada_cluster, previsao_cluster),2))\n",
        "print(\"mutual information = \", round(metrics.mutual_info_score(test_saida_cluster, previsao_cluster),2))\n",
        "print(\"contigencia = \", metrics.cluster.contingency_matrix(test_saida_cluster, previsao_cluster),2)"
      ],
      "metadata": {
        "colab": {
          "base_uri": "https://localhost:8080/"
        },
        "id": "WdeGckNpqoTI",
        "outputId": "2c818223-ebb1-45ca-9188-ad1f24a5af9b"
      },
      "execution_count": 110,
      "outputs": [
        {
          "output_type": "stream",
          "name": "stdout",
          "text": [
            "Silhueta =  0.53\n",
            "davies bouldin score =  0.55\n",
            "mutual information =  0.39\n",
            "contigencia =  [[ 3  5  0  9]\n",
            " [ 8  0 20  2]\n",
            " [13  0  3  3]] 2\n"
          ]
        }
      ]
    },
    {
      "cell_type": "code",
      "source": [
        "cluster = KMeans(n_clusters = 5, random_state = 5762).fit(train_entrada_cluster, train_saida_cluster)\n",
        "previsao_cluster = cluster.predict(test_entrada_cluster)\n",
        "print(\"Silhueta = \", round(metrics.silhouette_score(test_entrada_cluster, previsao_cluster),2))\n",
        "print(\"davies bouldin score = \", round(metrics.davies_bouldin_score(test_entrada_cluster, previsao_cluster),2))\n",
        "print(\"mutual information = \", round(metrics.mutual_info_score(test_saida_cluster, previsao_cluster),2))\n",
        "print(\"contigencia = \", metrics.cluster.contingency_matrix(test_saida_cluster, previsao_cluster),2)"
      ],
      "metadata": {
        "colab": {
          "base_uri": "https://localhost:8080/"
        },
        "id": "aWd7EdCkqs3I",
        "outputId": "0b9132f4-d039-4a13-c144-d490f1ce7c83"
      },
      "execution_count": 111,
      "outputs": [
        {
          "output_type": "stream",
          "name": "stdout",
          "text": [
            "Silhueta =  0.5\n",
            "davies bouldin score =  0.54\n",
            "mutual information =  0.39\n",
            "contigencia =  [[ 8  3  4  2  0]\n",
            " [ 2  8  0  0 20]\n",
            " [ 4 12  0  0  3]] 2\n"
          ]
        }
      ]
    },
    {
      "cell_type": "code",
      "source": [
        "cluster = KMeans(n_clusters = 7, random_state = 5762).fit(train_entrada_cluster, train_saida_cluster)\n",
        "previsao_cluster = cluster.predict(test_entrada_cluster)\n",
        "print(\"Silhueta = \", round(metrics.silhouette_score(test_entrada_cluster, previsao_cluster),2))\n",
        "print(\"davies bouldin score = \", round(metrics.davies_bouldin_score(test_entrada_cluster, previsao_cluster),2))\n",
        "print(\"mutual information = \", round(metrics.mutual_info_score(test_saida_cluster, previsao_cluster),2))\n",
        "print(\"contigencia = \", metrics.cluster.contingency_matrix(test_saida_cluster, previsao_cluster),2)"
      ],
      "metadata": {
        "colab": {
          "base_uri": "https://localhost:8080/"
        },
        "id": "-3857a0ZqwCX",
        "outputId": "37f03b68-17ca-4cd9-de96-d5f755d122b5"
      },
      "execution_count": 112,
      "outputs": [
        {
          "output_type": "stream",
          "name": "stdout",
          "text": [
            "Silhueta =  0.55\n",
            "davies bouldin score =  0.45\n",
            "mutual information =  0.55\n",
            "contigencia =  [[ 0  3  4  2  1  0  7]\n",
            " [15  0  3  0  3  9  0]\n",
            " [ 4  0  7  0  8  0  0]] 2\n"
          ]
        }
      ]
    }
  ]
}